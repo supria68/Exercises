{
 "cells": [
  {
   "cell_type": "markdown",
   "metadata": {},
   "source": [
    "# Stationary Vs Non-Stationary Time Series\n",
    "\n",
    "Stationary Series has a property where it's mean, variance and auto-correlation doesnt vary with time (no trend/seasonality).\n",
    "\n",
    "A series is said to be non-stationary if it's not constant around a particular value and consists of trends/seasonality...\n",
    "\n",
    "How to check if the series is stationary or non-stationary??\n",
    "- Use statistical methods like KPSS or ADF\n",
    "- Try converting the series to stationary by using a diff() or a shift() (removes trend)\n",
    "- If the weakly stationary series is not seasonal, apply ARIMA for forecasting else go for Seasonal ARIMA."
   ]
  },
  {
   "cell_type": "code",
   "execution_count": 1,
   "metadata": {},
   "outputs": [],
   "source": [
    "import pandas as pd\n",
    "import matplotlib.pyplot as plt\n",
    "from datetime import datetime\n",
    "\n",
    "%matplotlib inline"
   ]
  },
  {
   "cell_type": "code",
   "execution_count": 2,
   "metadata": {},
   "outputs": [
    {
     "data": {
      "text/plain": [
       "<matplotlib.axes._subplots.AxesSubplot at 0x7f54828913d0>"
      ]
     },
     "execution_count": 2,
     "metadata": {},
     "output_type": "execute_result"
    },
    {
     "data": {
      "image/png": "[encoded data removed]",
      "text/plain": [
       "<Figure size 576x432 with 1 Axes>"
      ]
     },
     "metadata": {
      "needs_background": "light"
     },
     "output_type": "display_data"
    }
   ],
   "source": [
    "def convert_datetime(x):\n",
    "    return datetime.strptime(x, '%m/%d/%Y')\n",
    "\n",
    "data = pd.read_csv('amazon_revenue_profit.csv', parse_dates = ['Quarter'], date_parser = convert_datetime)\n",
    "\n",
    "data.plot(x = 'Quarter', y = 'Revenue', figsize = (8,6))"
   ]
  },
  {
   "cell_type": "markdown",
   "metadata": {},
   "source": [
    "###### Insight:\n",
    "    The above plot shows the upward trend and has some seasonality. It's clear that the series isnt stationary!\n",
    "Let's run statistical tests to check the same."
   ]
  },
  {
   "cell_type": "markdown",
   "metadata": {},
   "source": [
    "### KPSS test\n",
    "\n",
    "Null hypothesis - Series is stationary\n",
    "\n",
    "Alternate hypothesis - Series is not stationary"
   ]
  },
  {
   "cell_type": "code",
   "execution_count": 3,
   "metadata": {},
   "outputs": [],
   "source": [
    "from statsmodels.tsa.stattools import kpss"
   ]
  },
  {
   "cell_type": "code",
   "execution_count": 4,
   "metadata": {},
   "outputs": [
    {
     "name": "stderr",
     "output_type": "stream",
     "text": [
      "/home/supriya/anaconda3/lib/python3.7/site-packages/statsmodels/tsa/stattools.py:1661: FutureWarning: The behavior of using lags=None will change in the next release. Currently lags=None is the same as lags='legacy', and so a sample-size lag length is used. After the next release, the default will change to be the same as lags='auto' which uses an automatic lag length selection method. To silence this warning, either use 'auto' or 'legacy'\n",
      "  warn(msg, FutureWarning)\n"
     ]
    }
   ],
   "source": [
    "stats, p, lags, critical_values = kpss(data['Revenue'], 'ct') # data has a trend component hence 'ct' is used. "
   ]
  },
  {
   "cell_type": "code",
   "execution_count": 5,
   "metadata": {},
   "outputs": [
    {
     "name": "stdout",
     "output_type": "stream",
     "text": [
      "KPSS Test Statistics: 0.1700516821083097\n",
      "p-value: 0.029956931576408573\n",
      "Critial Values: {'10%': 0.119, '5%': 0.146, '2.5%': 0.176, '1%': 0.216}\n",
      "Series is not Stationary, rejecting NULL hypothesis\n"
     ]
    }
   ],
   "source": [
    "print('KPSS Test Statistics: {}'.format(stats))\n",
    "print('p-value: {}'.format(p))\n",
    "print('Critial Values: {}'.format(critical_values))\n",
    "\n",
    "if p < 0.05 :\n",
    "  print('Series is not Stationary, rejecting NULL hypothesis')\n",
    "else:\n",
    "  print('Series is Stationary')"
   ]
  },
  {
   "cell_type": "markdown",
   "metadata": {},
   "source": [
    "### ADF test\n",
    "\n",
    "Null Hypothesis - Series possesses a unit root and hence is not stationary\n",
    "\n",
    "Alternate Hypothesis - Series is stationary"
   ]
  },
  {
   "cell_type": "code",
   "execution_count": 6,
   "metadata": {},
   "outputs": [],
   "source": [
    "from statsmodels.tsa.stattools import adfuller"
   ]
  },
  {
   "cell_type": "code",
   "execution_count": 9,
   "metadata": {},
   "outputs": [
    {
     "name": "stdout",
     "output_type": "stream",
     "text": [
      "Test Statistics: -2.4448360381972423\n",
      "p-value: 0.12947943121838534\n",
      "Critial Values: {'1%': -3.568485864, '5%': -2.92135992, '10%': -2.5986616}\n",
      "Series is not Stationary, accept NULL hypothesis\n"
     ]
    }
   ],
   "source": [
    "result = adfuller(data['Revenue'])\n",
    "\n",
    "print(f'Test Statistics: {result[0]}')\n",
    "print(f'p-value: {result[1]}')\n",
    "print(f'Critial Values: {result[4]}')\n",
    "\n",
    "if result[1] > 0.05 :\n",
    "  print('Series is not Stationary, accept NULL hypothesis')\n",
    "else:\n",
    "  print('Series is Stationary')"
   ]
  },
  {
   "cell_type": "markdown",
   "metadata": {},
   "source": [
    "\n",
    "\n",
    "    Since the statistical tests also predict that the series is non stationary, we have to use some diff() shift() methods to remove the trend and make it weakly stationary... so we could apply ARIMA for forecasting!"
   ]
  },
  {
   "cell_type": "code",
   "execution_count": null,
   "metadata": {},
   "outputs": [],
   "source": []
  }
 ],
 "metadata": {
  "kernelspec": {
   "display_name": "Python 3",
   "language": "python",
   "name": "python3"
  },
  "language_info": {
   "codemirror_mode": {
    "name": "ipython",
    "version": 3
   },
   "file_extension": ".py",
   "mimetype": "text/x-python",
   "name": "python",
   "nbconvert_exporter": "python",
   "pygments_lexer": "ipython3",
   "version": "3.7.6"
  }
 },
 "nbformat": 4,
 "nbformat_minor": 4
}
